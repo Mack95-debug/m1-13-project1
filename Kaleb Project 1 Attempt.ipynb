{
 "metadata": {
  "language_info": {
   "codemirror_mode": {
    "name": "ipython",
    "version": 3
   },
   "file_extension": ".py",
   "mimetype": "text/x-python",
   "name": "python",
   "nbconvert_exporter": "python",
   "pygments_lexer": "ipython3",
   "version": "3.7.6-final"
  },
  "orig_nbformat": 2,
  "kernelspec": {
   "name": "python3",
   "display_name": "Python 3"
  }
 },
 "nbformat": 4,
 "nbformat_minor": 2,
 "cells": [
  {
   "cell_type": "code",
   "execution_count": 1,
   "metadata": {},
   "outputs": [],
   "source": [
    "import pandas as pd \n",
    "import numpy as np\n",
    "import math\n",
    "df = pd.read_csv('/Users/kalebmckenzie/Documents/GitHub/m1-13-project1/bank_data.csv')\n",
    "df['ratio'] = df['money']/df['time (hr)']\n",
    "df = df.sort_values('ratio', ascending=False)\n",
    "\n"
   ]
  },
  {
   "cell_type": "code",
   "execution_count": 2,
   "metadata": {},
   "outputs": [],
   "source": [
    "\n",
    "def distance_to_helicopter(x1,y1):\n",
    "    x2, y2 = 0,0\n",
    "    return math.hypot(x2-x1,y2-y1)\n",
    "df['distance_to_helicopter'] = np.vectorize(distance_to_helicopter)(df['x_coordinate'], df['y_coordinate'])\n"
   ]
  },
  {
   "cell_type": "code",
   "execution_count": 34,
   "metadata": {},
   "outputs": [],
   "source": [
    "\n",
    "def distance(current_loc, next_loc):\n",
    "    delta_x = next_loc[0] - current_loc.x_coordinate\n",
    "    delta_y = next_loc[1] - current_loc.y_coordinate\n",
    "    dist = np.sqrt(delta_x**2 + delta_y**2)  \n",
    "    return dist\n"
   ]
  },
  {
   "cell_type": "code",
   "execution_count": 52,
   "metadata": {},
   "outputs": [
    {
     "output_type": "stream",
     "name": "stdout",
     "text": [
      "        id  x_coordinate  y_coordinate  money  time (hr)         ratio  \\\n3613  3613     -1.950527     -1.495858  54400   0.000186  2.929603e+08   \n\n      distance_to_helicopter  \n3613                2.458078  \n"
     ]
    },
    {
     "output_type": "error",
     "ename": "ValueError",
     "evalue": "The truth value of a Series is ambiguous. Use a.empty, a.bool(), a.item(), a.any() or a.all().",
     "traceback": [
      "\u001b[0;31m---------------------------------------------------------------------------\u001b[0m",
      "\u001b[0;31mValueError\u001b[0m                                Traceback (most recent call last)",
      "\u001b[0;32m<ipython-input-52-82c993519a2e>\u001b[0m in \u001b[0;36m<module>\u001b[0;34m\u001b[0m\n\u001b[1;32m     59\u001b[0m     \u001b[0;32mreturn\u001b[0m \u001b[0mtravel_list\u001b[0m\u001b[0;34m\u001b[0m\u001b[0;34m\u001b[0m\u001b[0m\n\u001b[1;32m     60\u001b[0m \u001b[0;34m\u001b[0m\u001b[0m\n\u001b[0;32m---> 61\u001b[0;31m \u001b[0mrobber_algo\u001b[0m\u001b[0;34m(\u001b[0m\u001b[0mdf\u001b[0m\u001b[0;34m)\u001b[0m\u001b[0;34m\u001b[0m\u001b[0;34m\u001b[0m\u001b[0m\n\u001b[0m",
      "\u001b[0;32m<ipython-input-52-82c993519a2e>\u001b[0m in \u001b[0;36mrobber_algo\u001b[0;34m(df)\u001b[0m\n\u001b[1;32m     37\u001b[0m \u001b[0;34m\u001b[0m\u001b[0m\n\u001b[1;32m     38\u001b[0m \u001b[0;34m\u001b[0m\u001b[0m\n\u001b[0;32m---> 39\u001b[0;31m         \u001b[0;32mif\u001b[0m \u001b[0mt_remaining\u001b[0m \u001b[0;34m>\u001b[0m \u001b[0mtravel_t\u001b[0m\u001b[0;34m:\u001b[0m\u001b[0;34m\u001b[0m\u001b[0;34m\u001b[0m\u001b[0m\n\u001b[0m\u001b[1;32m     40\u001b[0m \u001b[0;34m\u001b[0m\u001b[0m\n\u001b[1;32m     41\u001b[0m \u001b[0;34m\u001b[0m\u001b[0m\n",
      "\u001b[0;32m~/Applications/anaconda3/lib/python3.7/site-packages/pandas/core/generic.py\u001b[0m in \u001b[0;36m__nonzero__\u001b[0;34m(self)\u001b[0m\n\u001b[1;32m   1477\u001b[0m     \u001b[0;32mdef\u001b[0m \u001b[0m__nonzero__\u001b[0m\u001b[0;34m(\u001b[0m\u001b[0mself\u001b[0m\u001b[0;34m)\u001b[0m\u001b[0;34m:\u001b[0m\u001b[0;34m\u001b[0m\u001b[0;34m\u001b[0m\u001b[0m\n\u001b[1;32m   1478\u001b[0m         raise ValueError(\n\u001b[0;32m-> 1479\u001b[0;31m             \u001b[0;34mf\"The truth value of a {type(self).__name__} is ambiguous. \"\u001b[0m\u001b[0;34m\u001b[0m\u001b[0;34m\u001b[0m\u001b[0m\n\u001b[0m\u001b[1;32m   1480\u001b[0m             \u001b[0;34m\"Use a.empty, a.bool(), a.item(), a.any() or a.all().\"\u001b[0m\u001b[0;34m\u001b[0m\u001b[0;34m\u001b[0m\u001b[0m\n\u001b[1;32m   1481\u001b[0m         )\n",
      "\u001b[0;31mValueError\u001b[0m: The truth value of a Series is ambiguous. Use a.empty, a.bool(), a.item(), a.any() or a.all()."
     ]
    }
   ],
   "source": [
    "\n",
    "def robber_algo(df):\n",
    "    t_remaining = 24\n",
    "    travel_list = []\n",
    "\n",
    "    speed = 30\n",
    "\n",
    "    \"\"\"\n",
    "    get the distance from current bank to all other banks, \n",
    "    then chooose best best ratio bank after\n",
    "\n",
    "    \"\"\"\n",
    "   \n",
    "    while t_remaining > 0:\n",
    "\n",
    "\n",
    "        highest_row = df.nlargest(1, 'ratio')\n",
    "        print(highest_row)\n",
    "\n",
    "        current_loc = highest_row\n",
    "    \n",
    "\n",
    "        bank_id = highest_row.iloc[0]['id']\n",
    "        #print(bank_id)\n",
    "\n",
    "        distance_helicopter = highest_row.iloc[0]['distance_to_helicopter']\n",
    "        #print(distance_helicopter)\n",
    "\n",
    "        next_loc = highest_row.iloc[0:]['x_coordinate'], highest_row.iloc[0:]['y_coordinate']\n",
    "        #print(next_loc)\n",
    "        \n",
    "\n",
    "        new_distance = distance(current_loc,next_loc)\n",
    "        #print(new_distance)\n",
    "        \n",
    "\n",
    "        travel_t = new_distance / speed\n",
    "  \n",
    "\n",
    "        if t_remaining > travel_t:\n",
    "\n",
    "\n",
    "            if bank_id not in travel_list:\n",
    "\n",
    "                travel_list.append(bank_id)\n",
    "\n",
    "\n",
    "                time = highest_row['time (hr)'].iloc[0] + travel_t\n",
    "\n",
    "                t_remaining -= time\n",
    "\n",
    "                current_loc = next_loc\n",
    "        else:\n",
    "            travel_list.append(0)\n",
    "            t_remaining -= distance_to_helicopter/speed\n",
    "            break\n",
    "\n",
    "\n",
    "\n",
    "    return travel_list\n",
    "\n",
    "robber_algo(df)"
   ]
  },
  {
   "cell_type": "code",
   "execution_count": null,
   "metadata": {},
   "outputs": [],
   "source": []
  }
 ]
}